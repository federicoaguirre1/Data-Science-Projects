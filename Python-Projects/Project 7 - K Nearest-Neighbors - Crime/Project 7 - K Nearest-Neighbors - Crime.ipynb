{
 "cells": [
  {
   "cell_type": "markdown",
   "metadata": {},
   "source": [
    "<hr style=\"margin-bottom: 40px;\">\n",
    "\n",
    "<img src=\"crime.png\"\n",
    "    style=\"width:300px; float: right; margin: 0 40px 40px 40px;\"></img>\n",
    "    \n",
    "    \n",
    "# San Francisco Crime Classification - KNN Project\n",
    "\n",
    "From 1934 to 1963, San Francisco was infamous for housing some of the world's most notorious criminals on the inescapable island of Alcatraz. Today, the city is known more for its tech scene than its criminal past. But, with rising wealth inequality, housing shortages, and a proliferation of expensive digital toys riding BART to work, there is no scarcity of crime in the city by the bay. From Sunset to SOMA, and Marina to Excelsior, this dataset provides nearly 12 years of crime reports from across all of San Francisco's neighborhoods.\n",
    "\n",
    "This dataset contains incidents derived from SFPD Crime Incident Reporting system. The data ranges from 1/1/2003 to 5/13/2015. The training set and test set rotate every week, meaning week 1,3,5,7… belong to test set, week 2,4,6,8 belong to training set. There are 9 variables:\n",
    "\n",
    "- Dates - timestamp of the crime incident.\n",
    "- Category - category of the crime incident (only in train.csv).\n",
    "- Descript - detailed description of the crime incident (only in train.csv)\n",
    "- DayOfWeek - the day of the week\n",
    "- PdDistrict - name of the Police Department District\n",
    "- Resolution - how the crime incident was resolved (only in train.csv)\n",
    "- Address - the approximate street address of the crime incident\n",
    "- X - Longitude\n",
    "- Y - Latitude\n",
    "\n",
    "The goal here is to predict the category of crime that occurred, given the time and location.\n",
    "\n",
    "This notebook has the following structure \n",
    "\n",
    "1. Read and explore the train data\n",
    "2. Understanding the Data\n",
    "3. Target Variable\n",
    "4. Read the test data\n",
    "5. Understanding the features and the problems\n",
    "2. Clean the Data\n",
    "3. Visualize the Data\n",
    "4. Model the Data using KNN"
   ]
  },
  {
   "cell_type": "markdown",
   "metadata": {},
   "source": [
    "## Imports and data read."
   ]
  },
  {
   "cell_type": "code",
   "execution_count": 1,
   "metadata": {
    "_cell_guid": "54dd87f2-820d-6a3e-644c-0ed4caf03c9a"
   },
   "outputs": [],
   "source": [
    "import numpy as np\n",
    "import pandas as pd\n",
    "import seaborn as sns\n",
    "import matplotlib.pyplot as plt\n",
    "sns.set(style=\"whitegrid\")"
   ]
  },
  {
   "cell_type": "code",
   "execution_count": 2,
   "metadata": {},
   "outputs": [],
   "source": [
    "train_data = pd.read_csv(\"train.csv\")"
   ]
  },
  {
   "cell_type": "code",
   "execution_count": 3,
   "metadata": {},
   "outputs": [
    {
     "data": {
      "text/html": [
       "<div>\n",
       "<style scoped>\n",
       "    .dataframe tbody tr th:only-of-type {\n",
       "        vertical-align: middle;\n",
       "    }\n",
       "\n",
       "    .dataframe tbody tr th {\n",
       "        vertical-align: top;\n",
       "    }\n",
       "\n",
       "    .dataframe thead th {\n",
       "        text-align: right;\n",
       "    }\n",
       "</style>\n",
       "<table border=\"1\" class=\"dataframe\">\n",
       "  <thead>\n",
       "    <tr style=\"text-align: right;\">\n",
       "      <th></th>\n",
       "      <th>Dates</th>\n",
       "      <th>Category</th>\n",
       "      <th>Descript</th>\n",
       "      <th>DayOfWeek</th>\n",
       "      <th>PdDistrict</th>\n",
       "      <th>Resolution</th>\n",
       "      <th>Address</th>\n",
       "      <th>X</th>\n",
       "      <th>Y</th>\n",
       "    </tr>\n",
       "  </thead>\n",
       "  <tbody>\n",
       "    <tr>\n",
       "      <td>0</td>\n",
       "      <td>2015-05-13 23:53:00</td>\n",
       "      <td>WARRANTS</td>\n",
       "      <td>WARRANT ARREST</td>\n",
       "      <td>Wednesday</td>\n",
       "      <td>NORTHERN</td>\n",
       "      <td>ARREST, BOOKED</td>\n",
       "      <td>OAK ST / LAGUNA ST</td>\n",
       "      <td>-122.425892</td>\n",
       "      <td>37.774599</td>\n",
       "    </tr>\n",
       "    <tr>\n",
       "      <td>1</td>\n",
       "      <td>2015-05-13 23:53:00</td>\n",
       "      <td>OTHER OFFENSES</td>\n",
       "      <td>TRAFFIC VIOLATION ARREST</td>\n",
       "      <td>Wednesday</td>\n",
       "      <td>NORTHERN</td>\n",
       "      <td>ARREST, BOOKED</td>\n",
       "      <td>OAK ST / LAGUNA ST</td>\n",
       "      <td>-122.425892</td>\n",
       "      <td>37.774599</td>\n",
       "    </tr>\n",
       "    <tr>\n",
       "      <td>2</td>\n",
       "      <td>2015-05-13 23:33:00</td>\n",
       "      <td>OTHER OFFENSES</td>\n",
       "      <td>TRAFFIC VIOLATION ARREST</td>\n",
       "      <td>Wednesday</td>\n",
       "      <td>NORTHERN</td>\n",
       "      <td>ARREST, BOOKED</td>\n",
       "      <td>VANNESS AV / GREENWICH ST</td>\n",
       "      <td>-122.424363</td>\n",
       "      <td>37.800414</td>\n",
       "    </tr>\n",
       "    <tr>\n",
       "      <td>3</td>\n",
       "      <td>2015-05-13 23:30:00</td>\n",
       "      <td>LARCENY/THEFT</td>\n",
       "      <td>GRAND THEFT FROM LOCKED AUTO</td>\n",
       "      <td>Wednesday</td>\n",
       "      <td>NORTHERN</td>\n",
       "      <td>NONE</td>\n",
       "      <td>1500 Block of LOMBARD ST</td>\n",
       "      <td>-122.426995</td>\n",
       "      <td>37.800873</td>\n",
       "    </tr>\n",
       "    <tr>\n",
       "      <td>4</td>\n",
       "      <td>2015-05-13 23:30:00</td>\n",
       "      <td>LARCENY/THEFT</td>\n",
       "      <td>GRAND THEFT FROM LOCKED AUTO</td>\n",
       "      <td>Wednesday</td>\n",
       "      <td>PARK</td>\n",
       "      <td>NONE</td>\n",
       "      <td>100 Block of BRODERICK ST</td>\n",
       "      <td>-122.438738</td>\n",
       "      <td>37.771541</td>\n",
       "    </tr>\n",
       "  </tbody>\n",
       "</table>\n",
       "</div>"
      ],
      "text/plain": [
       "                 Dates        Category                      Descript  \\\n",
       "0  2015-05-13 23:53:00        WARRANTS                WARRANT ARREST   \n",
       "1  2015-05-13 23:53:00  OTHER OFFENSES      TRAFFIC VIOLATION ARREST   \n",
       "2  2015-05-13 23:33:00  OTHER OFFENSES      TRAFFIC VIOLATION ARREST   \n",
       "3  2015-05-13 23:30:00   LARCENY/THEFT  GRAND THEFT FROM LOCKED AUTO   \n",
       "4  2015-05-13 23:30:00   LARCENY/THEFT  GRAND THEFT FROM LOCKED AUTO   \n",
       "\n",
       "   DayOfWeek PdDistrict      Resolution                    Address  \\\n",
       "0  Wednesday   NORTHERN  ARREST, BOOKED         OAK ST / LAGUNA ST   \n",
       "1  Wednesday   NORTHERN  ARREST, BOOKED         OAK ST / LAGUNA ST   \n",
       "2  Wednesday   NORTHERN  ARREST, BOOKED  VANNESS AV / GREENWICH ST   \n",
       "3  Wednesday   NORTHERN            NONE   1500 Block of LOMBARD ST   \n",
       "4  Wednesday       PARK            NONE  100 Block of BRODERICK ST   \n",
       "\n",
       "            X          Y  \n",
       "0 -122.425892  37.774599  \n",
       "1 -122.425892  37.774599  \n",
       "2 -122.424363  37.800414  \n",
       "3 -122.426995  37.800873  \n",
       "4 -122.438738  37.771541  "
      ]
     },
     "execution_count": 3,
     "metadata": {},
     "output_type": "execute_result"
    }
   ],
   "source": [
    "train_data.head()"
   ]
  },
  {
   "cell_type": "code",
   "execution_count": 4,
   "metadata": {},
   "outputs": [
    {
     "name": "stdout",
     "output_type": "stream",
     "text": [
      "<class 'pandas.core.frame.DataFrame'>\n",
      "RangeIndex: 878049 entries, 0 to 878048\n",
      "Data columns (total 9 columns):\n",
      "Dates         878049 non-null object\n",
      "Category      878049 non-null object\n",
      "Descript      878049 non-null object\n",
      "DayOfWeek     878049 non-null object\n",
      "PdDistrict    878049 non-null object\n",
      "Resolution    878049 non-null object\n",
      "Address       878049 non-null object\n",
      "X             878049 non-null float64\n",
      "Y             878049 non-null float64\n",
      "dtypes: float64(2), object(7)\n",
      "memory usage: 60.3+ MB\n"
     ]
    }
   ],
   "source": [
    "train_data.info()"
   ]
  },
  {
   "cell_type": "markdown",
   "metadata": {
    "_cell_guid": "fb5a7f44-a20f-c23a-e71f-daa3bcc25a93"
   },
   "source": [
    "# Understanding the data\n",
    "\n",
    "It's important to understand all the columns before we move further. Train data has the following columns:\n",
    "\n",
    "1. Dates - timestamp of the crime incident\n",
    "2. **Category** - category of the crime incident (only in train.csv). This is the target variable we are going to predict.\n",
    "3. Descript - detailed description of the crime incident (only in train.csv)\n",
    "4. DayOfWeek - the day of the week\n",
    "5. PdDistrict - name of the Police Department District\n",
    "6. Resolution - how the crime incident was resolved (only in train.csv)\n",
    "7. Address - the approximate street address of the crime incident \n",
    "8. X - Longitude\n",
    "9. Y - Latitude"
   ]
  },
  {
   "cell_type": "code",
   "execution_count": 5,
   "metadata": {
    "_cell_guid": "394231b7-4edc-f939-c889-2d887de413b8"
   },
   "outputs": [
    {
     "name": "stdout",
     "output_type": "stream",
     "text": [
      "['WARRANTS' 'OTHER OFFENSES' 'LARCENY/THEFT' 'VEHICLE THEFT' 'VANDALISM'\n",
      " 'NON-CRIMINAL' 'ROBBERY' 'ASSAULT' 'WEAPON LAWS' 'BURGLARY'\n",
      " 'SUSPICIOUS OCC' 'DRUNKENNESS' 'FORGERY/COUNTERFEITING' 'DRUG/NARCOTIC'\n",
      " 'STOLEN PROPERTY' 'SECONDARY CODES' 'TRESPASS' 'MISSING PERSON' 'FRAUD'\n",
      " 'KIDNAPPING' 'RUNAWAY' 'DRIVING UNDER THE INFLUENCE'\n",
      " 'SEX OFFENSES FORCIBLE' 'PROSTITUTION' 'DISORDERLY CONDUCT' 'ARSON'\n",
      " 'FAMILY OFFENSES' 'LIQUOR LAWS' 'BRIBERY' 'EMBEZZLEMENT' 'SUICIDE'\n",
      " 'LOITERING' 'SEX OFFENSES NON FORCIBLE' 'EXTORTION' 'GAMBLING'\n",
      " 'BAD CHECKS' 'TREA' 'RECOVERED VEHICLE' 'PORNOGRAPHY/OBSCENE MAT']\n"
     ]
    }
   ],
   "source": [
    "#target variable\n",
    "\n",
    "target = train_data[\"Category\"].unique()\n",
    "print(target)\n",
    "\n",
    "# There are multiple categorical values. It looks like a multi class classification problem."
   ]
  },
  {
   "cell_type": "code",
   "execution_count": 6,
   "metadata": {
    "_cell_guid": "c6cfe480-4979-4458-c85b-1e6114d6b225"
   },
   "outputs": [],
   "source": [
    "#Let's read the test data now\n",
    "\n",
    "test_data = pd.read_csv(\"test.csv\")"
   ]
  },
  {
   "cell_type": "code",
   "execution_count": 7,
   "metadata": {},
   "outputs": [
    {
     "data": {
      "text/html": [
       "<div>\n",
       "<style scoped>\n",
       "    .dataframe tbody tr th:only-of-type {\n",
       "        vertical-align: middle;\n",
       "    }\n",
       "\n",
       "    .dataframe tbody tr th {\n",
       "        vertical-align: top;\n",
       "    }\n",
       "\n",
       "    .dataframe thead th {\n",
       "        text-align: right;\n",
       "    }\n",
       "</style>\n",
       "<table border=\"1\" class=\"dataframe\">\n",
       "  <thead>\n",
       "    <tr style=\"text-align: right;\">\n",
       "      <th></th>\n",
       "      <th>Id</th>\n",
       "      <th>Dates</th>\n",
       "      <th>DayOfWeek</th>\n",
       "      <th>PdDistrict</th>\n",
       "      <th>Address</th>\n",
       "      <th>X</th>\n",
       "      <th>Y</th>\n",
       "    </tr>\n",
       "  </thead>\n",
       "  <tbody>\n",
       "    <tr>\n",
       "      <td>0</td>\n",
       "      <td>0</td>\n",
       "      <td>2015-05-10 23:59:00</td>\n",
       "      <td>Sunday</td>\n",
       "      <td>BAYVIEW</td>\n",
       "      <td>2000 Block of THOMAS AV</td>\n",
       "      <td>-122.399588</td>\n",
       "      <td>37.735051</td>\n",
       "    </tr>\n",
       "    <tr>\n",
       "      <td>1</td>\n",
       "      <td>1</td>\n",
       "      <td>2015-05-10 23:51:00</td>\n",
       "      <td>Sunday</td>\n",
       "      <td>BAYVIEW</td>\n",
       "      <td>3RD ST / REVERE AV</td>\n",
       "      <td>-122.391523</td>\n",
       "      <td>37.732432</td>\n",
       "    </tr>\n",
       "    <tr>\n",
       "      <td>2</td>\n",
       "      <td>2</td>\n",
       "      <td>2015-05-10 23:50:00</td>\n",
       "      <td>Sunday</td>\n",
       "      <td>NORTHERN</td>\n",
       "      <td>2000 Block of GOUGH ST</td>\n",
       "      <td>-122.426002</td>\n",
       "      <td>37.792212</td>\n",
       "    </tr>\n",
       "    <tr>\n",
       "      <td>3</td>\n",
       "      <td>3</td>\n",
       "      <td>2015-05-10 23:45:00</td>\n",
       "      <td>Sunday</td>\n",
       "      <td>INGLESIDE</td>\n",
       "      <td>4700 Block of MISSION ST</td>\n",
       "      <td>-122.437394</td>\n",
       "      <td>37.721412</td>\n",
       "    </tr>\n",
       "    <tr>\n",
       "      <td>4</td>\n",
       "      <td>4</td>\n",
       "      <td>2015-05-10 23:45:00</td>\n",
       "      <td>Sunday</td>\n",
       "      <td>INGLESIDE</td>\n",
       "      <td>4700 Block of MISSION ST</td>\n",
       "      <td>-122.437394</td>\n",
       "      <td>37.721412</td>\n",
       "    </tr>\n",
       "  </tbody>\n",
       "</table>\n",
       "</div>"
      ],
      "text/plain": [
       "   Id                Dates DayOfWeek PdDistrict                   Address  \\\n",
       "0   0  2015-05-10 23:59:00    Sunday    BAYVIEW   2000 Block of THOMAS AV   \n",
       "1   1  2015-05-10 23:51:00    Sunday    BAYVIEW        3RD ST / REVERE AV   \n",
       "2   2  2015-05-10 23:50:00    Sunday   NORTHERN    2000 Block of GOUGH ST   \n",
       "3   3  2015-05-10 23:45:00    Sunday  INGLESIDE  4700 Block of MISSION ST   \n",
       "4   4  2015-05-10 23:45:00    Sunday  INGLESIDE  4700 Block of MISSION ST   \n",
       "\n",
       "            X          Y  \n",
       "0 -122.399588  37.735051  \n",
       "1 -122.391523  37.732432  \n",
       "2 -122.426002  37.792212  \n",
       "3 -122.437394  37.721412  \n",
       "4 -122.437394  37.721412  "
      ]
     },
     "execution_count": 7,
     "metadata": {},
     "output_type": "execute_result"
    }
   ],
   "source": [
    "test_data.head()\n",
    "#Test data does not have the target variable and the resolution"
   ]
  },
  {
   "cell_type": "code",
   "execution_count": 8,
   "metadata": {},
   "outputs": [
    {
     "data": {
      "image/png": "[encoded data removed]",
      "text/plain": [
       "<Figure size 432x288 with 1 Axes>"
      ]
     },
     "metadata": {},
     "output_type": "display_data"
    }
   ],
   "source": [
    "# Get 10 most common crimes\n",
    "most_common_cat = train_data['Category'].value_counts()[0:9].sort_values()\n",
    "most_common_cat.values\n",
    "\n",
    "categs = most_common_cat.index\n",
    "y_pos = np.arange(len(categs))\n",
    "counts = most_common_cat.values\n",
    "\n",
    "plt.barh(y_pos, counts, align='center', alpha=0.5)\n",
    "plt.barh(y_pos, counts, align='center', alpha=0.5)\n",
    "plt.yticks(y_pos, categs)\n",
    "plt.xlabel('Number of Incidences')\n",
    "plt.show()"
   ]
  },
  {
   "cell_type": "code",
   "execution_count": 14,
   "metadata": {},
   "outputs": [
    {
     "data": {
      "text/html": [
       "<div>\n",
       "<style scoped>\n",
       "    .dataframe tbody tr th:only-of-type {\n",
       "        vertical-align: middle;\n",
       "    }\n",
       "\n",
       "    .dataframe tbody tr th {\n",
       "        vertical-align: top;\n",
       "    }\n",
       "\n",
       "    .dataframe thead th {\n",
       "        text-align: right;\n",
       "    }\n",
       "</style>\n",
       "<table border=\"1\" class=\"dataframe\">\n",
       "  <thead>\n",
       "    <tr style=\"text-align: right;\">\n",
       "      <th>DayOfWeek</th>\n",
       "      <th>Friday</th>\n",
       "      <th>Monday</th>\n",
       "      <th>Saturday</th>\n",
       "      <th>Sunday</th>\n",
       "      <th>Thursday</th>\n",
       "      <th>Tuesday</th>\n",
       "      <th>Wednesday</th>\n",
       "    </tr>\n",
       "    <tr>\n",
       "      <th>Category</th>\n",
       "      <th></th>\n",
       "      <th></th>\n",
       "      <th></th>\n",
       "      <th></th>\n",
       "      <th></th>\n",
       "      <th></th>\n",
       "      <th></th>\n",
       "    </tr>\n",
       "  </thead>\n",
       "  <tbody>\n",
       "    <tr>\n",
       "      <td>ASSAULT</td>\n",
       "      <td>0.145169</td>\n",
       "      <td>0.137364</td>\n",
       "      <td>0.156030</td>\n",
       "      <td>0.157162</td>\n",
       "      <td>0.133280</td>\n",
       "      <td>0.133722</td>\n",
       "      <td>0.137273</td>\n",
       "    </tr>\n",
       "    <tr>\n",
       "      <td>BURGLARY</td>\n",
       "      <td>0.172140</td>\n",
       "      <td>0.143164</td>\n",
       "      <td>0.129343</td>\n",
       "      <td>0.115114</td>\n",
       "      <td>0.145558</td>\n",
       "      <td>0.146211</td>\n",
       "      <td>0.148470</td>\n",
       "    </tr>\n",
       "    <tr>\n",
       "      <td>DRUG/NARCOTIC</td>\n",
       "      <td>0.137481</td>\n",
       "      <td>0.144948</td>\n",
       "      <td>0.118397</td>\n",
       "      <td>0.113820</td>\n",
       "      <td>0.156640</td>\n",
       "      <td>0.157010</td>\n",
       "      <td>0.171703</td>\n",
       "    </tr>\n",
       "    <tr>\n",
       "      <td>LARCENY/THEFT</td>\n",
       "      <td>0.154969</td>\n",
       "      <td>0.134763</td>\n",
       "      <td>0.155615</td>\n",
       "      <td>0.138079</td>\n",
       "      <td>0.139594</td>\n",
       "      <td>0.136975</td>\n",
       "      <td>0.140006</td>\n",
       "    </tr>\n",
       "    <tr>\n",
       "      <td>NON-CRIMINAL</td>\n",
       "      <td>0.151499</td>\n",
       "      <td>0.139268</td>\n",
       "      <td>0.151749</td>\n",
       "      <td>0.140546</td>\n",
       "      <td>0.138878</td>\n",
       "      <td>0.138001</td>\n",
       "      <td>0.140059</td>\n",
       "    </tr>\n",
       "    <tr>\n",
       "      <td>OTHER OFFENSES</td>\n",
       "      <td>0.147311</td>\n",
       "      <td>0.140963</td>\n",
       "      <td>0.135748</td>\n",
       "      <td>0.122498</td>\n",
       "      <td>0.146312</td>\n",
       "      <td>0.149062</td>\n",
       "      <td>0.158105</td>\n",
       "    </tr>\n",
       "    <tr>\n",
       "      <td>VANDALISM</td>\n",
       "      <td>0.158569</td>\n",
       "      <td>0.132946</td>\n",
       "      <td>0.163801</td>\n",
       "      <td>0.147613</td>\n",
       "      <td>0.133706</td>\n",
       "      <td>0.130844</td>\n",
       "      <td>0.132521</td>\n",
       "    </tr>\n",
       "    <tr>\n",
       "      <td>VEHICLE THEFT</td>\n",
       "      <td>0.160149</td>\n",
       "      <td>0.137818</td>\n",
       "      <td>0.150964</td>\n",
       "      <td>0.139529</td>\n",
       "      <td>0.138636</td>\n",
       "      <td>0.135048</td>\n",
       "      <td>0.137855</td>\n",
       "    </tr>\n",
       "    <tr>\n",
       "      <td>WARRANTS</td>\n",
       "      <td>0.140380</td>\n",
       "      <td>0.137656</td>\n",
       "      <td>0.127067</td>\n",
       "      <td>0.125101</td>\n",
       "      <td>0.151040</td>\n",
       "      <td>0.152248</td>\n",
       "      <td>0.166509</td>\n",
       "    </tr>\n",
       "  </tbody>\n",
       "</table>\n",
       "</div>"
      ],
      "text/plain": [
       "DayOfWeek         Friday    Monday  Saturday    Sunday  Thursday   Tuesday  \\\n",
       "Category                                                                     \n",
       "ASSAULT         0.145169  0.137364  0.156030  0.157162  0.133280  0.133722   \n",
       "BURGLARY        0.172140  0.143164  0.129343  0.115114  0.145558  0.146211   \n",
       "DRUG/NARCOTIC   0.137481  0.144948  0.118397  0.113820  0.156640  0.157010   \n",
       "LARCENY/THEFT   0.154969  0.134763  0.155615  0.138079  0.139594  0.136975   \n",
       "NON-CRIMINAL    0.151499  0.139268  0.151749  0.140546  0.138878  0.138001   \n",
       "OTHER OFFENSES  0.147311  0.140963  0.135748  0.122498  0.146312  0.149062   \n",
       "VANDALISM       0.158569  0.132946  0.163801  0.147613  0.133706  0.130844   \n",
       "VEHICLE THEFT   0.160149  0.137818  0.150964  0.139529  0.138636  0.135048   \n",
       "WARRANTS        0.140380  0.137656  0.127067  0.125101  0.151040  0.152248   \n",
       "\n",
       "DayOfWeek       Wednesday  \n",
       "Category                   \n",
       "ASSAULT          0.137273  \n",
       "BURGLARY         0.148470  \n",
       "DRUG/NARCOTIC    0.171703  \n",
       "LARCENY/THEFT    0.140006  \n",
       "NON-CRIMINAL     0.140059  \n",
       "OTHER OFFENSES   0.158105  \n",
       "VANDALISM        0.132521  \n",
       "VEHICLE THEFT    0.137855  \n",
       "WARRANTS         0.166509  "
      ]
     },
     "execution_count": 14,
     "metadata": {},
     "output_type": "execute_result"
    }
   ],
   "source": [
    "# Extract the most common crimes from the data\n",
    "most_commons = train_data[train_data['Category'].apply(lambda x: x in categs)]\n",
    "\n",
    "\n",
    "# Build a cross table to get the number of each crime type per day of week\n",
    "cat_per_week_common = pd.crosstab(most_commons['Category'], most_commons['DayOfWeek']) \n",
    "\n",
    "# Calculate percentages of crimes\n",
    "cat_per_week_common = cat_per_week_common.div(cat_per_week_common.sum(axis=1), axis=0)\n",
    "cat_per_week_common\n",
    "# # Rearrange columns\n",
    "# cat_per_week_common = cat_per_week_common[['Monday', \n",
    "#                                            'Tuesday', 'Wednesday', \n",
    "#                                            'Thursday', 'Friday', \n",
    "#                                            'Saturday','Sunday']]\n",
    "# # Transform into a heat map\n",
    "# fig = plt.figure(figsize=(10,10))\n",
    "# ax = sns.heatmap(cat_per_week_common,\n",
    "#                  cmap=\"BuPu\", linewidths=.5)\n",
    "# plt.xticks(fontsize=12,rotation=45,ha='right')\n",
    "# plt.yticks(fontsize=12)\n",
    "# plt.xlabel(\"\")\n",
    "# plt.ylabel(\"\")"
   ]
  },
  {
   "cell_type": "code",
   "execution_count": null,
   "metadata": {},
   "outputs": [],
   "source": [
    "# Pick crime types of interest\n",
    "violent = train[train.Category.isin(['ASSAULT', 'BURGLARY',\n",
    "                                       'KIDNAPPING', 'ROBBERY',  \n",
    "                                       'SEX OFFENSES FORCIBLE'])].copy()\n",
    "# Create Arrest variable\n",
    "violent['Arrest'] = np.where(violent['Resolution'].isin(['NONE', 'NOT PROSECUTED']), 0,1)\n",
    "\n",
    "# Calculate counts\n",
    "arrest_counts = violent['Category'][violent.Arrest==1].value_counts()[0:9]\n",
    "total_counts = violent['Category'].value_counts()[0:9]\n",
    "arrest_counts = arrest_counts/(total_counts).sort_index()\n",
    "total_counts = total_counts/(total_counts).sort_index()\n",
    "\n",
    "# Plot values\n",
    "total_counts.plot.barh(color='crimson', label= 'Unsolved')\n",
    "arrest_counts.plot.barh(color='mediumseagreen', label='Solved')\n",
    "plt.legend(bbox_to_anchor=(1.05, 1), loc='upper left', borderaxespad=0.)\n",
    "plt.xlabel('Proportion')\n",
    "plt.show()"
   ]
  },
  {
   "cell_type": "code",
   "execution_count": null,
   "metadata": {
    "_cell_guid": "bdeb24b8-ccb2-200a-95fc-18cc0a03e7e3"
   },
   "outputs": [],
   "source": [
    "#Converting the Category column in the train dataset.\n",
    "data_dict = {}\n",
    "count = 1\n",
    "for data in target:\n",
    "    data_dict[data] = count\n",
    "    count+=1\n",
    "train_data[\"Category\"] = train_data[\"Category\"].replace(data_dict)\n",
    "\n",
    "#Replacing the day of weeks in both datasets.\n",
    "data_week_dict = {\n",
    "    \"Monday\": 1,\n",
    "    \"Tuesday\":2,\n",
    "    \"Wednesday\":3,\n",
    "    \"Thursday\":4,\n",
    "    \"Friday\":5,\n",
    "    \"Saturday\":6,\n",
    "    \"Sunday\":7\n",
    "}\n",
    "train_data[\"DayOfWeek\"] = train_data[\"DayOfWeek\"].replace(data_week_dict)\n",
    "test_data[\"DayOfWeek\"] = test_data[\"DayOfWeek\"].replace(data_week_dict)\n",
    "\n",
    "##Converting the PdDistrict column in both datasets.\n",
    "district = train_data[\"PdDistrict\"].unique()\n",
    "data_dict_district = {}\n",
    "count = 1\n",
    "for data in district:\n",
    "    data_dict_district[data] = count\n",
    "    count+=1 \n",
    "train_data[\"PdDistrict\"] = train_data[\"PdDistrict\"].replace(data_dict_district)\n",
    "test_data[\"PdDistrict\"] = test_data[\"PdDistrict\"].replace(data_dict_district)"
   ]
  },
  {
   "cell_type": "code",
   "execution_count": null,
   "metadata": {
    "_cell_guid": "716ec2a1-9099-a56e-2353-72be757571eb"
   },
   "outputs": [],
   "source": [
    "train_data.head()"
   ]
  },
  {
   "cell_type": "code",
   "execution_count": null,
   "metadata": {},
   "outputs": [],
   "source": [
    "test_data.head()"
   ]
  },
  {
   "cell_type": "markdown",
   "metadata": {
    "_cell_guid": "e223588a-258f-8e46-c03e-5a560645c2e8"
   },
   "source": [
    "## Exploratory Data Analysis"
   ]
  },
  {
   "cell_type": "code",
   "execution_count": null,
   "metadata": {},
   "outputs": [],
   "source": [
    "sns.set_palette(\"GnBu_d\")\n",
    "sns.set_style('whitegrid')"
   ]
  },
  {
   "cell_type": "code",
   "execution_count": null,
   "metadata": {},
   "outputs": [],
   "source": [
    "f, ax = plt.subplots(figsize=(6, 15))\n",
    "\n",
    "# sns.barplot(x=2, y='Resolution', data=a, label=\"Total\", color=\"b\")\n",
    "sns.countplot(y=\"Resolution\", data=train_data, order=train_data['Resolution'].value_counts().index, palette='GnBu_d')\n",
    "\n",
    "# Add a legend and informative axis label\n",
    "# ax.legend(ncol=2, loc=\"lower right\", frameon=True)\n",
    "ax.set(ylabel=\"Resolution\",xlabel=\"Cases\")\n",
    "sns.despine(left=True, bottom=True)"
   ]
  },
  {
   "cell_type": "markdown",
   "metadata": {
    "_cell_guid": "2383677b-6572-dd11-2873-56aebfe1d8f1"
   },
   "source": [
    "## Modeling the Data - KNN Algorithm"
   ]
  },
  {
   "cell_type": "code",
   "execution_count": null,
   "metadata": {
    "_cell_guid": "81141b9a-748e-d0cd-1572-0f0e001d50fa"
   },
   "outputs": [],
   "source": [
    "#Let's use knn algorithm on numeric columns\n",
    "\n",
    "features = [\"DayOfWeek\", \"PdDistrict\",  \"X\", \"Y\"]\n",
    "X_train = train_data[features]\n",
    "y_train = train_data[\"Category\"]\n",
    "X_test = test_data[features]"
   ]
  },
  {
   "cell_type": "code",
   "execution_count": null,
   "metadata": {
    "_cell_guid": "35b26280-3045-401a-d11c-a90e381b247c"
   },
   "outputs": [],
   "source": [
    "from collections import OrderedDict\n",
    "data_dict_new = OrderedDict(sorted(data_dict.items()))\n",
    "print(data_dict_new)                "
   ]
  },
  {
   "cell_type": "code",
   "execution_count": null,
   "metadata": {},
   "outputs": [],
   "source": [
    "data_dict"
   ]
  },
  {
   "cell_type": "code",
   "execution_count": null,
   "metadata": {},
   "outputs": [],
   "source": []
  },
  {
   "cell_type": "code",
   "execution_count": null,
   "metadata": {
    "_cell_guid": "798daa6c-f918-83e7-d593-3e26abcfa252"
   },
   "outputs": [],
   "source": [
    "#print(type(predictions))\n",
    "result_dataframe = pd.DataFrame({\n",
    "    \"Id\": test_data[\"Id\"]\n",
    "})\n",
    "for key,value in data_dict_new.items():\n",
    "    result_dataframe[key] = 0\n",
    "count = 0\n",
    "for item in predictions:\n",
    "    for key,value in data_dict.items():\n",
    "        if(value == item):\n",
    "            result_dataframe[key][count] = 1\n",
    "    count+=1\n",
    "result_dataframe.to_csv(\"submission_knn.csv\", index=False) "
   ]
  }
 ],
 "metadata": {
  "_change_revision": 9,
  "_is_fork": false,
  "kernelspec": {
   "display_name": "Python 3",
   "language": "python",
   "name": "python3"
  },
  "language_info": {
   "codemirror_mode": {
    "name": "ipython",
    "version": 3
   },
   "file_extension": ".py",
   "mimetype": "text/x-python",
   "name": "python",
   "nbconvert_exporter": "python",
   "pygments_lexer": "ipython3",
   "version": "3.7.4"
  }
 },
 "nbformat": 4,
 "nbformat_minor": 4
}
